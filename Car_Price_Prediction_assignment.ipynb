{
  "nbformat": 4,
  "nbformat_minor": 0,
  "metadata": {
    "accelerator": "GPU",
    "colab": {
      "name": "Car Price Prediction assignment.ipynb",
      "provenance": [],
      "include_colab_link": true
    },
    "kernelspec": {
      "display_name": "Python 3",
      "language": "python",
      "name": "python3"
    },
    "language_info": {
      "codemirror_mode": {
        "name": "ipython",
        "version": 3
      },
      "file_extension": ".py",
      "mimetype": "text/x-python",
      "name": "python",
      "nbconvert_exporter": "python",
      "pygments_lexer": "ipython3",
      "version": "3.8.5"
    }
  },
  "cells": [
    {
      "cell_type": "markdown",
      "metadata": {
        "id": "view-in-github",
        "colab_type": "text"
      },
      "source": [
        "<a href=\"https://colab.research.google.com/github/MuhammadRustamShomi/DL-Final-Solved-assigments-PIAIC146681/blob/main/Car_Price_Prediction_assignment.ipynb\" target=\"_parent\"><img src=\"https://colab.research.google.com/assets/colab-badge.svg\" alt=\"Open In Colab\"/></a>"
      ]
    },
    {
      "cell_type": "markdown",
      "metadata": {
        "id": "mOAKh0VX6A_w"
      },
      "source": [
        "# Car Price Prediction::"
      ]
    },
    {
      "cell_type": "markdown",
      "metadata": {
        "id": "aSstHJZc6A_9"
      },
      "source": [
        "Download dataset from this link:\n",
        "\n",
        "https://www.kaggle.com/hellbuoy/car-price-prediction"
      ]
    },
    {
      "cell_type": "markdown",
      "metadata": {
        "id": "PyE92shr6BAE"
      },
      "source": [
        "# Problem Statement::"
      ]
    },
    {
      "cell_type": "markdown",
      "metadata": {
        "id": "Xpwxam0R6BAF"
      },
      "source": [
        "A Chinese automobile company Geely Auto aspires to enter the US market by setting up their manufacturing unit there and producing cars locally to give competition to their US and European counterparts.\n",
        "\n",
        "They have contracted an automobile consulting company to understand the factors on which the pricing of cars depends. Specifically, they want to understand the factors affecting the pricing of cars in the American market, since those may be very different from the Chinese market. The company wants to know:\n",
        "\n",
        "Which variables are significant in predicting the price of a car\n",
        "How well those variables describe the price of a car\n",
        "Based on various market surveys, the consulting firm has gathered a large data set of different types of cars across the America market.\n",
        "\n",
        "# task::\n",
        "We are required to model the price of cars with the available independent variables. It will be used by the management to understand how exactly the prices vary with the independent variables. They can accordingly manipulate the design of the cars, the business strategy etc. to meet certain price levels. Further, the model will be a good way for management to understand the pricing dynamics of a new market."
      ]
    },
    {
      "cell_type": "markdown",
      "metadata": {
        "id": "xr5BdN8J6BAI"
      },
      "source": [
        "# WORKFLOW ::"
      ]
    },
    {
      "cell_type": "markdown",
      "metadata": {
        "id": "IsIVLK7j6BAK"
      },
      "source": [
        "1.Load Data\n",
        "\n",
        "2.Check Missing Values ( If Exist ; Fill each record with mean of its feature )\n",
        "\n",
        "3.Split into 50% Training(Samples,Labels) , 30% Test(Samples,Labels) and 20% Validation Data(Samples,Labels).\n",
        "\n",
        "4.Model : input Layer (No. of features ), 3 hidden layers including 10,8,6 unit & Output Layer with activation function relu/tanh (check by experiment).\n",
        "\n",
        "5.Compilation Step (Note : Its a Regression problem , select loss , metrics according to it)\n",
        "6.Train the Model with Epochs (100) and validate it\n",
        "\n",
        "7.If the model gets overfit tune your model by changing the units , No. of layers , activation function , epochs , add dropout layer or add Regularizer according to the need .\n",
        "\n",
        "8.Evaluation Step\n",
        "\n",
        "9.Prediction"
      ]
    },
    {
      "cell_type": "markdown",
      "metadata": {
        "id": "u_PakQpi7uUh"
      },
      "source": [
        "Importing Libraries "
      ]
    },
    {
      "cell_type": "code",
      "metadata": {
        "id": "8pqHomLI6BAR"
      },
      "source": [
        "import numpy as np\n",
        "import pandas as pd\n",
        "import matplotlib.pyplot as plt\n",
        "import seaborn as sns\n"
      ],
      "execution_count": 1,
      "outputs": []
    },
    {
      "cell_type": "code",
      "metadata": {
        "colab": {
          "base_uri": "https://localhost:8080/"
        },
        "id": "tcC8OmCF6IVX",
        "outputId": "9253c708-d2d3-4e87-e42f-d73f8c0ebaed"
      },
      "source": [
        "#mounting google drive \n",
        "from google.colab import drive\n",
        "drive.mount('/content/drive')"
      ],
      "execution_count": 2,
      "outputs": [
        {
          "output_type": "stream",
          "text": [
            "Drive already mounted at /content/drive; to attempt to forcibly remount, call drive.mount(\"/content/drive\", force_remount=True).\n"
          ],
          "name": "stdout"
        }
      ]
    },
    {
      "cell_type": "code",
      "metadata": {
        "colab": {
          "base_uri": "https://localhost:8080/",
          "height": 275
        },
        "id": "Tdt6eBJz6BAY",
        "outputId": "2a2fe4ff-7581-4e3f-d3bb-574dbc6a4a8c"
      },
      "source": [
        "#Loading data and cheking five rows \n",
        "df_car=pd.read_csv(\"/content/drive/MyDrive/CarPrice_Assignment.csv\")\n",
        "df_car.head()"
      ],
      "execution_count": 3,
      "outputs": [
        {
          "output_type": "execute_result",
          "data": {
            "text/html": [
              "<div>\n",
              "<style scoped>\n",
              "    .dataframe tbody tr th:only-of-type {\n",
              "        vertical-align: middle;\n",
              "    }\n",
              "\n",
              "    .dataframe tbody tr th {\n",
              "        vertical-align: top;\n",
              "    }\n",
              "\n",
              "    .dataframe thead th {\n",
              "        text-align: right;\n",
              "    }\n",
              "</style>\n",
              "<table border=\"1\" class=\"dataframe\">\n",
              "  <thead>\n",
              "    <tr style=\"text-align: right;\">\n",
              "      <th></th>\n",
              "      <th>car_ID</th>\n",
              "      <th>symboling</th>\n",
              "      <th>CarName</th>\n",
              "      <th>fueltype</th>\n",
              "      <th>aspiration</th>\n",
              "      <th>doornumber</th>\n",
              "      <th>carbody</th>\n",
              "      <th>drivewheel</th>\n",
              "      <th>enginelocation</th>\n",
              "      <th>wheelbase</th>\n",
              "      <th>carlength</th>\n",
              "      <th>carwidth</th>\n",
              "      <th>carheight</th>\n",
              "      <th>curbweight</th>\n",
              "      <th>enginetype</th>\n",
              "      <th>cylindernumber</th>\n",
              "      <th>enginesize</th>\n",
              "      <th>fuelsystem</th>\n",
              "      <th>boreratio</th>\n",
              "      <th>stroke</th>\n",
              "      <th>compressionratio</th>\n",
              "      <th>horsepower</th>\n",
              "      <th>peakrpm</th>\n",
              "      <th>citympg</th>\n",
              "      <th>highwaympg</th>\n",
              "      <th>price</th>\n",
              "    </tr>\n",
              "  </thead>\n",
              "  <tbody>\n",
              "    <tr>\n",
              "      <th>0</th>\n",
              "      <td>1</td>\n",
              "      <td>3</td>\n",
              "      <td>alfa-romero giulia</td>\n",
              "      <td>gas</td>\n",
              "      <td>std</td>\n",
              "      <td>two</td>\n",
              "      <td>convertible</td>\n",
              "      <td>rwd</td>\n",
              "      <td>front</td>\n",
              "      <td>88.6</td>\n",
              "      <td>168.8</td>\n",
              "      <td>64.1</td>\n",
              "      <td>48.8</td>\n",
              "      <td>2548</td>\n",
              "      <td>dohc</td>\n",
              "      <td>four</td>\n",
              "      <td>130</td>\n",
              "      <td>mpfi</td>\n",
              "      <td>3.47</td>\n",
              "      <td>2.68</td>\n",
              "      <td>9.0</td>\n",
              "      <td>111</td>\n",
              "      <td>5000</td>\n",
              "      <td>21</td>\n",
              "      <td>27</td>\n",
              "      <td>13495.0</td>\n",
              "    </tr>\n",
              "    <tr>\n",
              "      <th>1</th>\n",
              "      <td>2</td>\n",
              "      <td>3</td>\n",
              "      <td>alfa-romero stelvio</td>\n",
              "      <td>gas</td>\n",
              "      <td>std</td>\n",
              "      <td>two</td>\n",
              "      <td>convertible</td>\n",
              "      <td>rwd</td>\n",
              "      <td>front</td>\n",
              "      <td>88.6</td>\n",
              "      <td>168.8</td>\n",
              "      <td>64.1</td>\n",
              "      <td>48.8</td>\n",
              "      <td>2548</td>\n",
              "      <td>dohc</td>\n",
              "      <td>four</td>\n",
              "      <td>130</td>\n",
              "      <td>mpfi</td>\n",
              "      <td>3.47</td>\n",
              "      <td>2.68</td>\n",
              "      <td>9.0</td>\n",
              "      <td>111</td>\n",
              "      <td>5000</td>\n",
              "      <td>21</td>\n",
              "      <td>27</td>\n",
              "      <td>16500.0</td>\n",
              "    </tr>\n",
              "    <tr>\n",
              "      <th>2</th>\n",
              "      <td>3</td>\n",
              "      <td>1</td>\n",
              "      <td>alfa-romero Quadrifoglio</td>\n",
              "      <td>gas</td>\n",
              "      <td>std</td>\n",
              "      <td>two</td>\n",
              "      <td>hatchback</td>\n",
              "      <td>rwd</td>\n",
              "      <td>front</td>\n",
              "      <td>94.5</td>\n",
              "      <td>171.2</td>\n",
              "      <td>65.5</td>\n",
              "      <td>52.4</td>\n",
              "      <td>2823</td>\n",
              "      <td>ohcv</td>\n",
              "      <td>six</td>\n",
              "      <td>152</td>\n",
              "      <td>mpfi</td>\n",
              "      <td>2.68</td>\n",
              "      <td>3.47</td>\n",
              "      <td>9.0</td>\n",
              "      <td>154</td>\n",
              "      <td>5000</td>\n",
              "      <td>19</td>\n",
              "      <td>26</td>\n",
              "      <td>16500.0</td>\n",
              "    </tr>\n",
              "    <tr>\n",
              "      <th>3</th>\n",
              "      <td>4</td>\n",
              "      <td>2</td>\n",
              "      <td>audi 100 ls</td>\n",
              "      <td>gas</td>\n",
              "      <td>std</td>\n",
              "      <td>four</td>\n",
              "      <td>sedan</td>\n",
              "      <td>fwd</td>\n",
              "      <td>front</td>\n",
              "      <td>99.8</td>\n",
              "      <td>176.6</td>\n",
              "      <td>66.2</td>\n",
              "      <td>54.3</td>\n",
              "      <td>2337</td>\n",
              "      <td>ohc</td>\n",
              "      <td>four</td>\n",
              "      <td>109</td>\n",
              "      <td>mpfi</td>\n",
              "      <td>3.19</td>\n",
              "      <td>3.40</td>\n",
              "      <td>10.0</td>\n",
              "      <td>102</td>\n",
              "      <td>5500</td>\n",
              "      <td>24</td>\n",
              "      <td>30</td>\n",
              "      <td>13950.0</td>\n",
              "    </tr>\n",
              "    <tr>\n",
              "      <th>4</th>\n",
              "      <td>5</td>\n",
              "      <td>2</td>\n",
              "      <td>audi 100ls</td>\n",
              "      <td>gas</td>\n",
              "      <td>std</td>\n",
              "      <td>four</td>\n",
              "      <td>sedan</td>\n",
              "      <td>4wd</td>\n",
              "      <td>front</td>\n",
              "      <td>99.4</td>\n",
              "      <td>176.6</td>\n",
              "      <td>66.4</td>\n",
              "      <td>54.3</td>\n",
              "      <td>2824</td>\n",
              "      <td>ohc</td>\n",
              "      <td>five</td>\n",
              "      <td>136</td>\n",
              "      <td>mpfi</td>\n",
              "      <td>3.19</td>\n",
              "      <td>3.40</td>\n",
              "      <td>8.0</td>\n",
              "      <td>115</td>\n",
              "      <td>5500</td>\n",
              "      <td>18</td>\n",
              "      <td>22</td>\n",
              "      <td>17450.0</td>\n",
              "    </tr>\n",
              "  </tbody>\n",
              "</table>\n",
              "</div>"
            ],
            "text/plain": [
              "   car_ID  symboling                   CarName  ... citympg highwaympg    price\n",
              "0       1          3        alfa-romero giulia  ...      21         27  13495.0\n",
              "1       2          3       alfa-romero stelvio  ...      21         27  16500.0\n",
              "2       3          1  alfa-romero Quadrifoglio  ...      19         26  16500.0\n",
              "3       4          2               audi 100 ls  ...      24         30  13950.0\n",
              "4       5          2                audi 100ls  ...      18         22  17450.0\n",
              "\n",
              "[5 rows x 26 columns]"
            ]
          },
          "metadata": {
            "tags": []
          },
          "execution_count": 3
        }
      ]
    },
    {
      "cell_type": "code",
      "metadata": {
        "id": "2vA5VX-vIZH8"
      },
      "source": [
        "X=df_car.iloc[:,:-1]\n",
        "y=df_car.iloc[:,-1]"
      ],
      "execution_count": 4,
      "outputs": []
    },
    {
      "cell_type": "code",
      "metadata": {
        "id": "ofuPqYKtAFUI"
      },
      "source": [
        "X.drop(X.select_dtypes(include='object'),axis=1,inplace=True)"
      ],
      "execution_count": 5,
      "outputs": []
    },
    {
      "cell_type": "code",
      "metadata": {
        "colab": {
          "base_uri": "https://localhost:8080/"
        },
        "id": "WtRy-u2jAQIf",
        "outputId": "d954e788-cc0b-4620-e0c5-78ce7409db31"
      },
      "source": [
        "print(f\"Shape of input ==> X :{X.shape}\\nShape of output ==> Y :{y.shape} \")"
      ],
      "execution_count": 6,
      "outputs": [
        {
          "output_type": "stream",
          "text": [
            "Shape of input ==> X :(205, 15)\n",
            "Shape of output ==> Y :(205,) \n"
          ],
          "name": "stdout"
        }
      ]
    },
    {
      "cell_type": "code",
      "metadata": {
        "id": "h_4fte7MAFv8"
      },
      "source": [
        "X_train=X.sample(frac=0.7, replace=True, random_state=1,axis=0)\n",
        "y_train=y.sample(frac=0.7, replace=True, random_state=1,axis=0)"
      ],
      "execution_count": 7,
      "outputs": []
    },
    {
      "cell_type": "code",
      "metadata": {
        "id": "Vkuu-dDXCim4"
      },
      "source": [
        "X_test=X.sample(frac=0.3, replace=True, random_state=1,axis=0)\n",
        "y_test=y.sample(frac=0.3, replace=True, random_state=1,axis=0)"
      ],
      "execution_count": 8,
      "outputs": []
    },
    {
      "cell_type": "code",
      "metadata": {
        "colab": {
          "base_uri": "https://localhost:8080/"
        },
        "id": "0sctn8l0WnhH",
        "outputId": "417c0506-5698-4ca0-e75b-521149b6a6b2"
      },
      "source": [
        "print(f\"shape of training data is :{X_train.shape}\\nshape of training label is :{y_train.shape}\\nshape of testing data is :{X_test.shape}\\nshape of testing label is :{y_test.shape}\")"
      ],
      "execution_count": 9,
      "outputs": [
        {
          "output_type": "stream",
          "text": [
            "shape of training data is :(144, 15)\n",
            "shape of training label is :(144,)\n",
            "shape of testing data is :(62, 15)\n",
            "shape of testing label is :(62,)\n"
          ],
          "name": "stdout"
        }
      ]
    },
    {
      "cell_type": "code",
      "metadata": {
        "id": "ZTHXZxvIXbyL"
      },
      "source": [
        "X_train=np.asarray(X_train).astype(\"float32\")\n",
        "X_test=np.asarray(X_test).astype(\"float32\")"
      ],
      "execution_count": 10,
      "outputs": []
    },
    {
      "cell_type": "code",
      "metadata": {
        "id": "9AnUOYUp6BAd"
      },
      "source": [
        "mean = X_train.mean(axis=0)\n",
        "X_train-= mean\n",
        "std = X_train.std(axis=0)\n",
        "X_train/= std\n",
        "X_test-= mean\n",
        "X_test/= std"
      ],
      "execution_count": 11,
      "outputs": []
    },
    {
      "cell_type": "code",
      "metadata": {
        "id": "NLyzGAu56BAf"
      },
      "source": [
        "y_mean = y_train.mean(axis=0)\n",
        "y_train-= y_mean\n",
        "y_std = y_train.std(axis=0)\n",
        "y_train/= y_std\n",
        "y_test-= y_mean\n",
        "y_test/= y_std"
      ],
      "execution_count": 12,
      "outputs": []
    },
    {
      "cell_type": "code",
      "metadata": {
        "id": "59ZzAIFP6BAg"
      },
      "source": [
        "val_x=X_train[:50]\n",
        "partial_x_train=X_train[50:]\n",
        "val_y=y_train[:50]\n",
        "partial_y_train=y_train[50:]"
      ],
      "execution_count": 13,
      "outputs": []
    },
    {
      "cell_type": "code",
      "metadata": {
        "id": "4fl7aV6_3wqK"
      },
      "source": [
        "import tensorflow as tf\n",
        "from keras import models,layers,optimizers,losses\n",
        "network=models.Sequential()\n",
        "network.add(layers.Dense(10,activation=\"relu\" ,input_shape=(X_train.shape[1],)))\n",
        "network.add(layers.Dropout(0.2))\n",
        "network.add(layers.Dense(8,activation=\"relu\"))\n",
        "#network.add(layers.Dropout(0.2))\n",
        "network.add(layers.Dense(6,activation=\"relu\"))\n",
        "network.add(layers.Dense(1))\n",
        "network.compile(optimizer=\"rmsprop\",loss=\"mse\",metrics=[\"mae\"])"
      ],
      "execution_count": 14,
      "outputs": []
    },
    {
      "cell_type": "code",
      "metadata": {
        "colab": {
          "base_uri": "https://localhost:8080/"
        },
        "id": "oLGAUrNT48wi",
        "outputId": "9d60c6ab-f273-4bab-93db-2afd4b45ee0d"
      },
      "source": [
        "network.summary()"
      ],
      "execution_count": 15,
      "outputs": [
        {
          "output_type": "stream",
          "text": [
            "Model: \"sequential\"\n",
            "_________________________________________________________________\n",
            "Layer (type)                 Output Shape              Param #   \n",
            "=================================================================\n",
            "dense (Dense)                (None, 10)                160       \n",
            "_________________________________________________________________\n",
            "dropout (Dropout)            (None, 10)                0         \n",
            "_________________________________________________________________\n",
            "dense_1 (Dense)              (None, 8)                 88        \n",
            "_________________________________________________________________\n",
            "dense_2 (Dense)              (None, 6)                 54        \n",
            "_________________________________________________________________\n",
            "dense_3 (Dense)              (None, 1)                 7         \n",
            "=================================================================\n",
            "Total params: 309\n",
            "Trainable params: 309\n",
            "Non-trainable params: 0\n",
            "_________________________________________________________________\n"
          ],
          "name": "stdout"
        }
      ]
    },
    {
      "cell_type": "code",
      "metadata": {
        "colab": {
          "base_uri": "https://localhost:8080/"
        },
        "id": "dYDbEkY05Sfk",
        "outputId": "92e368ba-e65a-47f7-ba50-569b87a8b26d"
      },
      "source": [
        "history=network.fit(partial_x_train, partial_y_train,epochs=45, batch_size=1, verbose=1,validation_data=(val_x,val_y))"
      ],
      "execution_count": 16,
      "outputs": [
        {
          "output_type": "stream",
          "text": [
            "Epoch 1/45\n",
            "94/94 [==============================] - 1s 6ms/step - loss: 0.6432 - mae: 0.6455 - val_loss: 1.0000 - val_mae: 0.7512\n",
            "Epoch 2/45\n",
            "94/94 [==============================] - 0s 3ms/step - loss: 0.5539 - mae: 0.5813 - val_loss: 0.8372 - val_mae: 0.6521\n",
            "Epoch 3/45\n",
            "94/94 [==============================] - 0s 3ms/step - loss: 0.4543 - mae: 0.4584 - val_loss: 0.7228 - val_mae: 0.5576\n",
            "Epoch 4/45\n",
            "94/94 [==============================] - 0s 3ms/step - loss: 0.4885 - mae: 0.4356 - val_loss: 0.6583 - val_mae: 0.5217\n",
            "Epoch 5/45\n",
            "94/94 [==============================] - 0s 3ms/step - loss: 0.3911 - mae: 0.3733 - val_loss: 0.6056 - val_mae: 0.5033\n",
            "Epoch 6/45\n",
            "94/94 [==============================] - 0s 3ms/step - loss: 0.4689 - mae: 0.3772 - val_loss: 0.5584 - val_mae: 0.4837\n",
            "Epoch 7/45\n",
            "94/94 [==============================] - 0s 3ms/step - loss: 0.2564 - mae: 0.3333 - val_loss: 0.5371 - val_mae: 0.4836\n",
            "Epoch 8/45\n",
            "94/94 [==============================] - 0s 3ms/step - loss: 0.2527 - mae: 0.3337 - val_loss: 0.4842 - val_mae: 0.4599\n",
            "Epoch 9/45\n",
            "94/94 [==============================] - 0s 3ms/step - loss: 0.3532 - mae: 0.3341 - val_loss: 0.4738 - val_mae: 0.4638\n",
            "Epoch 10/45\n",
            "94/94 [==============================] - 0s 3ms/step - loss: 0.4505 - mae: 0.3694 - val_loss: 0.4392 - val_mae: 0.4585\n",
            "Epoch 11/45\n",
            "94/94 [==============================] - 0s 3ms/step - loss: 0.1755 - mae: 0.2594 - val_loss: 0.4011 - val_mae: 0.4305\n",
            "Epoch 12/45\n",
            "94/94 [==============================] - 0s 3ms/step - loss: 0.1764 - mae: 0.2441 - val_loss: 0.3937 - val_mae: 0.4325\n",
            "Epoch 13/45\n",
            "94/94 [==============================] - 0s 3ms/step - loss: 0.1774 - mae: 0.2476 - val_loss: 0.3642 - val_mae: 0.4145\n",
            "Epoch 14/45\n",
            "94/94 [==============================] - 0s 3ms/step - loss: 0.1170 - mae: 0.2045 - val_loss: 0.3318 - val_mae: 0.3980\n",
            "Epoch 15/45\n",
            "94/94 [==============================] - 0s 3ms/step - loss: 0.2255 - mae: 0.3060 - val_loss: 0.3360 - val_mae: 0.3974\n",
            "Epoch 16/45\n",
            "94/94 [==============================] - 0s 3ms/step - loss: 0.1898 - mae: 0.2952 - val_loss: 0.3029 - val_mae: 0.3782\n",
            "Epoch 17/45\n",
            "94/94 [==============================] - 0s 3ms/step - loss: 0.2520 - mae: 0.2946 - val_loss: 0.2880 - val_mae: 0.3617\n",
            "Epoch 18/45\n",
            "94/94 [==============================] - 0s 3ms/step - loss: 0.3850 - mae: 0.3683 - val_loss: 0.2746 - val_mae: 0.3570\n",
            "Epoch 19/45\n",
            "94/94 [==============================] - 0s 3ms/step - loss: 0.1461 - mae: 0.2367 - val_loss: 0.2839 - val_mae: 0.3702\n",
            "Epoch 20/45\n",
            "94/94 [==============================] - 0s 3ms/step - loss: 0.1929 - mae: 0.3032 - val_loss: 0.2589 - val_mae: 0.3516\n",
            "Epoch 21/45\n",
            "94/94 [==============================] - 0s 3ms/step - loss: 0.4623 - mae: 0.3881 - val_loss: 0.2683 - val_mae: 0.3665\n",
            "Epoch 22/45\n",
            "94/94 [==============================] - 0s 3ms/step - loss: 0.1869 - mae: 0.2666 - val_loss: 0.2582 - val_mae: 0.3442\n",
            "Epoch 23/45\n",
            "94/94 [==============================] - 0s 3ms/step - loss: 0.1792 - mae: 0.2607 - val_loss: 0.2500 - val_mae: 0.3503\n",
            "Epoch 24/45\n",
            "94/94 [==============================] - 0s 3ms/step - loss: 0.4956 - mae: 0.3727 - val_loss: 0.2830 - val_mae: 0.3661\n",
            "Epoch 25/45\n",
            "94/94 [==============================] - 0s 3ms/step - loss: 0.2507 - mae: 0.3070 - val_loss: 0.2776 - val_mae: 0.3702\n",
            "Epoch 26/45\n",
            "94/94 [==============================] - 0s 3ms/step - loss: 0.2126 - mae: 0.2730 - val_loss: 0.2557 - val_mae: 0.3490\n",
            "Epoch 27/45\n",
            "94/94 [==============================] - 0s 3ms/step - loss: 0.2734 - mae: 0.2592 - val_loss: 0.2608 - val_mae: 0.3601\n",
            "Epoch 28/45\n",
            "94/94 [==============================] - 0s 3ms/step - loss: 0.1825 - mae: 0.2455 - val_loss: 0.2404 - val_mae: 0.3456\n",
            "Epoch 29/45\n",
            "94/94 [==============================] - 0s 3ms/step - loss: 0.1923 - mae: 0.2971 - val_loss: 0.2366 - val_mae: 0.3419\n",
            "Epoch 30/45\n",
            "94/94 [==============================] - 0s 3ms/step - loss: 0.1547 - mae: 0.2686 - val_loss: 0.2280 - val_mae: 0.3391\n",
            "Epoch 31/45\n",
            "94/94 [==============================] - 0s 3ms/step - loss: 0.1782 - mae: 0.2740 - val_loss: 0.2224 - val_mae: 0.3393\n",
            "Epoch 32/45\n",
            "94/94 [==============================] - 0s 3ms/step - loss: 0.1202 - mae: 0.2291 - val_loss: 0.2151 - val_mae: 0.3366\n",
            "Epoch 33/45\n",
            "94/94 [==============================] - 0s 3ms/step - loss: 0.1667 - mae: 0.2652 - val_loss: 0.2083 - val_mae: 0.3290\n",
            "Epoch 34/45\n",
            "94/94 [==============================] - 0s 3ms/step - loss: 0.0974 - mae: 0.1939 - val_loss: 0.2127 - val_mae: 0.3353\n",
            "Epoch 35/45\n",
            "94/94 [==============================] - 0s 3ms/step - loss: 0.1899 - mae: 0.2545 - val_loss: 0.1850 - val_mae: 0.3144\n",
            "Epoch 36/45\n",
            "94/94 [==============================] - 0s 3ms/step - loss: 0.1564 - mae: 0.2391 - val_loss: 0.1893 - val_mae: 0.3257\n",
            "Epoch 37/45\n",
            "94/94 [==============================] - 0s 3ms/step - loss: 0.1415 - mae: 0.2432 - val_loss: 0.1857 - val_mae: 0.3181\n",
            "Epoch 38/45\n",
            "94/94 [==============================] - 0s 3ms/step - loss: 0.1589 - mae: 0.2017 - val_loss: 0.2071 - val_mae: 0.3264\n",
            "Epoch 39/45\n",
            "94/94 [==============================] - 0s 3ms/step - loss: 0.1613 - mae: 0.2761 - val_loss: 0.2144 - val_mae: 0.3286\n",
            "Epoch 40/45\n",
            "94/94 [==============================] - 0s 3ms/step - loss: 0.1313 - mae: 0.2164 - val_loss: 0.1886 - val_mae: 0.3167\n",
            "Epoch 41/45\n",
            "94/94 [==============================] - 0s 2ms/step - loss: 0.1003 - mae: 0.2142 - val_loss: 0.1933 - val_mae: 0.3256\n",
            "Epoch 42/45\n",
            "94/94 [==============================] - 0s 3ms/step - loss: 0.1558 - mae: 0.2209 - val_loss: 0.2173 - val_mae: 0.3352\n",
            "Epoch 43/45\n",
            "94/94 [==============================] - 0s 3ms/step - loss: 0.0963 - mae: 0.1875 - val_loss: 0.1887 - val_mae: 0.3236\n",
            "Epoch 44/45\n",
            "94/94 [==============================] - 0s 3ms/step - loss: 0.1777 - mae: 0.2710 - val_loss: 0.2315 - val_mae: 0.3444\n",
            "Epoch 45/45\n",
            "94/94 [==============================] - 0s 3ms/step - loss: 0.1202 - mae: 0.2240 - val_loss: 0.2262 - val_mae: 0.3446\n"
          ],
          "name": "stdout"
        }
      ]
    },
    {
      "cell_type": "code",
      "metadata": {
        "colab": {
          "base_uri": "https://localhost:8080/",
          "height": 295
        },
        "id": "8GN7NXzJ5hTO",
        "outputId": "c15354df-d56b-41f5-c5a8-a566962212d1"
      },
      "source": [
        "loss = history.history['loss']\n",
        "val_loss = history.history['val_loss']\n",
        "epochs = range(1, len(loss) + 1)\n",
        "plt.plot(epochs, loss,\"go\",label='Training loss')\n",
        "plt.plot(epochs, val_loss, 'r', label='Validation loss')\n",
        "plt.title('Training and validation loss')\n",
        "plt.xlabel('Epochs')\n",
        "plt.ylabel('Loss')\n",
        "plt.legend()\n",
        "plt.grid()\n",
        "plt.show()"
      ],
      "execution_count": 17,
      "outputs": [
        {
          "output_type": "display_data",
          "data": {
            "image/png": "[encoded data removed]",
            "text/plain": [
              "<Figure size 432x288 with 1 Axes>"
            ]
          },
          "metadata": {
            "tags": [],
            "needs_background": "light"
          }
        }
      ]
    },
    {
      "cell_type": "code",
      "metadata": {
        "colab": {
          "base_uri": "https://localhost:8080/"
        },
        "id": "kEoA-LKT7GvX",
        "outputId": "6e5b0fda-8eaf-4f6d-dfd8-264b5ba766d6"
      },
      "source": [
        "network.evaluate(X_test,y_test)"
      ],
      "execution_count": 28,
      "outputs": [
        {
          "output_type": "stream",
          "text": [
            "2/2 [==============================] - 0s 6ms/step - loss: 0.2131 - mae: 0.3278\n"
          ],
          "name": "stdout"
        },
        {
          "output_type": "execute_result",
          "data": {
            "text/plain": [
              "[0.21308633685112, 0.32784217596054077]"
            ]
          },
          "metadata": {
            "tags": []
          },
          "execution_count": 28
        }
      ]
    },
    {
      "cell_type": "code",
      "metadata": {
        "colab": {
          "base_uri": "https://localhost:8080/"
        },
        "id": "tC9O--I3-fhq",
        "outputId": "f84cb038-3db4-4d5c-db5c-1589f6d94832"
      },
      "source": [
        "result_1=network.predict(X_test)\n",
        "result_1[4]"
      ],
      "execution_count": 29,
      "outputs": [
        {
          "output_type": "execute_result",
          "data": {
            "text/plain": [
              "array([0.8192852], dtype=float32)"
            ]
          },
          "metadata": {
            "tags": []
          },
          "execution_count": 29
        }
      ]
    },
    {
      "cell_type": "code",
      "metadata": {
        "colab": {
          "base_uri": "https://localhost:8080/",
          "height": 295
        },
        "id": "bhyLGejV-unF",
        "outputId": "572c9398-c730-43ef-9f25-1c81c7f87f82"
      },
      "source": [
        "y=result_1\n",
        "y1=range(62)\n",
        "x=y_test\n",
        "plt.scatter(x, y1, label= \"Actual price\", color= \"green\", marker= \"*\", s=100)\n",
        "plt.scatter(y, y1, label= \"Predicted Price\", color= \"yellow\", marker= \"^\", s=100)\n",
        "plt.xlabel('Price')\n",
        "plt.ylabel('Rows')\n",
        "plt.title('Actual price vs predicted price!')\n",
        "plt.legend()\n",
        "plt.grid()\n",
        "plt.show()"
      ],
      "execution_count": 39,
      "outputs": [
        {
          "output_type": "display_data",
          "data": {
            "image/png": "[encoded data removed]",
            "text/plain": [
              "<Figure size 432x288 with 1 Axes>"
            ]
          },
          "metadata": {
            "tags": [],
            "needs_background": "light"
          }
        }
      ]
    }
  ]
}